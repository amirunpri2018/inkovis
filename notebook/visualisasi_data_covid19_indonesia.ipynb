{
 "cells": [
  {
   "cell_type": "markdown",
   "metadata": {},
   "source": [
    "Catatan: Buku ini diambil dari notebook Kaggle [Visualisasi Data COVID-19 Indonesia](https://www.kaggle.com/tarumainfo/visualisasi-data-covid-19-indonesia). Yang membedakan adalah dataset yang digunakan. \n",
    "\n",
    "-----\n",
    "\n",
    "Pada buku ini, hanya fokus dalam memvisualisasikan data jumlah kasus konfirmasi dan/atau jumlah spesimen COVID-19 di Indonesia. \n",
    "\n",
    "## Kode\n",
    "\n",
    "Pengembangan kode untuk visualisasi disimpan didalam modul **inkovis**. Modul inkovis tersedia di [github.com/taruma/inkovis](https://github.com/taruma/inkovis). Untuk melihat kodenya bisa juga dilihat pada output file dari buku ini. \n",
    "\n",
    "## Dataset\n",
    "\n",
    "Dataset menggunakan data `data_infeksi_covid19_indonesia` yang tersedia di `dataset/` [github.com/taruma/inkovis](https://github.com/taruma/inkovis). Informasi mengenai dataset bisa dibaca di halaman [README](https://github.com/taruma/inkovis/blob/master/README.md). Visualisasi pada buku ini menggunakan periode **31 hari terakhir**. \n",
    "\n",
    "## Objektif\n",
    "\n",
    "Berikut objektif yang ingin dicapai dalam visualisasi:\n",
    "\n",
    "- Menyampaikan informasi jumlah kasus konfirmasi dan/atau jumlah spesimen dalam satu grafik.\n",
    "- Menampilkan perkembangan pada kasus konfirmasi dan/atau jumlah spesimen dalam satu grafik.\n",
    "- Menyertakan informasi angka untuk memudahkan pembacaan data tiap harinya.\n",
    "- Dapat melakukan pada periode tertentu dan dalam _step_ hari tertentu."
   ]
  },
  {
   "cell_type": "markdown",
   "metadata": {},
   "source": [
    "-----"
   ]
  },
  {
   "cell_type": "markdown",
   "metadata": {},
   "source": [
    "# INISIASI BUKU"
   ]
  },
  {
   "cell_type": "code",
   "execution_count": null,
   "metadata": {},
   "outputs": [],
   "source": [
    "IS_LOCAL = True"
   ]
  },
  {
   "cell_type": "code",
   "execution_count": null,
   "metadata": {
    "_cell_guid": "79c7e3d0-c299-4dcb-8224-4455121ee9b0",
    "_uuid": "d629ff2d2480ee46fbb7e2d37f6b5fab8052498a"
   },
   "outputs": [],
   "source": [
    "# PEMASANGAN MODUL INKOVIS\n",
    "if IS_LOCAL:\n",
    "    pass\n",
    "else:\n",
    "    !wget -O inkovis.py \"https://github.com/taruma/inkovis/raw/master/notebook/inkovis.py\" -q\n",
    "    !wget -O so.py \"https://github.com/taruma/inkovis/raw/master/notebook/so.py\" -q"
   ]
  },
  {
   "cell_type": "code",
   "execution_count": null,
   "metadata": {},
   "outputs": [],
   "source": [
    "import numpy as np\n",
    "import pandas as pd\n",
    "import matplotlib.pyplot as plt\n",
    "import inkovis"
   ]
  },
  {
   "cell_type": "markdown",
   "metadata": {},
   "source": [
    "-----"
   ]
  },
  {
   "cell_type": "markdown",
   "metadata": {},
   "source": [
    "# DATASET"
   ]
  },
  {
   "cell_type": "code",
   "execution_count": null,
   "metadata": {},
   "outputs": [],
   "source": [
    "ALAMAT_DATASET = 'https://github.com/taruma/inkovis/raw/master/dataset/data_infeksi_covid19_indonesia.csv'\n",
    "dataset_inkovis = pd.read_csv(ALAMAT_DATASET, index_col=0, parse_dates=True, header=0)\n",
    "dataset_inkovis.tail()"
   ]
  },
  {
   "cell_type": "markdown",
   "metadata": {},
   "source": [
    "-----"
   ]
  },
  {
   "cell_type": "markdown",
   "metadata": {},
   "source": [
    "# VISUALISASI\n",
    "\n",
    "Pada proses visualisasi akan digunakan jenis _stacked bar_. Alasan penggunaan _stacked bar_ dikarenakan:\n",
    "\n",
    "- Kolom `jumlah_periksa` merupakan penjumlahan dari `konfirmasi`, `negatif`, dan `proses_periksa`. Diasumsikan bahwa `proses_periksa` merupakan bagian dari `jumlah_periksa` karena alasan penggunaan \"spesimen yang telah diterima\" pada infografis situs KEMKES meski hasilnya belum diketahui positif/negatif COVID-19. \n",
    "- Kolom `konfirmasi` merupakan penjumlahan dari `sembuh`, `meninggal`, `dirawat`. Kolom `dirawat` dihitung menggunakan formula `konfirmasi-(sembuh+meninggal)`. Kolom `dirawat` sebenarnya telah disediakan pada dataset kaggle di kolom `isolated`, akan tetapi karena saat pengembangan modul inkovis data tersebut tidak tersedia, digunakan formula tersebut.\n",
    "- Penggunaan _stacked bar_ bisa melihat proporsi data. Pada `jumlah periksa`, dapat melihat proporsi antara hasil yang `konfirmasi` dan `negatif`. Sedangkan pada `konfirmasi` bisa melihat proporsi antara `sembuh`, `meninggal`, dan `dirawat`. \n",
    "\n",
    "Saya membagi visualisasi menjadi dua bagian yaitu visualisasi akumulasi/total dan visualisasi perubahan/perkembangan. Visualisasi akumulasi/total lebih fokus menampilkan data yang telah terakumulasi setiap harinya, sedangkan visualisasi perubahan/perkembangan lebih fokus menampilkan perubahan data dari hari ke hari. \n"
   ]
  },
  {
   "cell_type": "code",
   "execution_count": null,
   "metadata": {},
   "outputs": [],
   "source": [
    "# PENGATURAN PARAMS VISUALISASI\n",
    "FIG_SIZE = (20, 8)\n",
    "FIG_SIZE_GROUP = (20, 12)\n",
    "\n",
    "# PARAM FUNGSI\n",
    "DATASET = dataset_inkovis[-31:]\n",
    "MASK = None\n",
    "DAYS = 1"
   ]
  },
  {
   "cell_type": "markdown",
   "metadata": {},
   "source": [
    "## VISUALISASI AKUMULASI/TOTAL\n",
    "\n",
    "Catatan pada visualisasi akumulasi/total:\n",
    "\n",
    "- Setiap grafik harus mampu menampilkan nilai/angka untuk memudahkan saat membaca grafik. Contoh: angka `konfirmasi` tersedia pada grafik. \n",
    "- Angka masing-masing kategori harus dapat ditampilkan. Contoh: Pada kasus konfirmasi, setiap bar harus mampu menampilkan angka proporsi datanya (`dirawat`, `sembuh`, dan `meninggal`).\n",
    "- Pada kasus konfirmasi dan jumlah spesimen, dapat ditampilkan perubahan/perkembangan data yang ditampilkan juga dalam bentuk _stacked bar_.\n",
    "- Pada kasus konfirmasi dan jumlah spesimen, angka perubahan/perkembangan dengan masing-masing kategori harus dapat ditampilkan.\n",
    "- Urutan _legend_ harus mengikuti _stacked bar_ agar memudahkan memahami grafik."
   ]
  },
  {
   "cell_type": "markdown",
   "metadata": {},
   "source": [
    "### KASUS KONFIRMASI \n"
   ]
  },
  {
   "cell_type": "code",
   "execution_count": null,
   "metadata": {},
   "outputs": [],
   "source": [
    "fig, ax = plt.subplots(figsize=FIG_SIZE)\n",
    "\n",
    "inkovis.plot_confirmed_case(\n",
    "    dataset=DATASET, ax=ax, mask=MASK, days=DAYS,\n",
    "    show_diff_numbers=False, show_hist=True,\n",
    "    show_diff_bar=False,\n",
    "    show_info=False\n",
    ")\n",
    "\n",
    "plt.savefig('KASUS_KONFIRMASI_HARIAN.png', dpi=150)"
   ]
  },
  {
   "cell_type": "markdown",
   "metadata": {},
   "source": [
    "### JUMLAH SPESIMEN\n",
    "\n",
    "Pada modul ini istilah \"jumlah spesimen\" memiliki arti yang sama dengan \"jumlah yang diperiksa\". Penggunaan kata \"spesimen\" mengikuti infografis yang tersedia di situs infeksiemerging.kemkes.go.id. "
   ]
  },
  {
   "cell_type": "code",
   "execution_count": null,
   "metadata": {},
   "outputs": [],
   "source": [
    "fig, ax = plt.subplots(figsize=FIG_SIZE)\n",
    "\n",
    "inkovis.plot_testing_case(\n",
    "    dataset=DATASET, ax=ax, mask=MASK, days=DAYS,\n",
    "    show_diff_numbers=False, show_hist=True,\n",
    "    show_diff_bar=False,\n",
    "    show_info=False)\n",
    "\n",
    "plt.savefig('JUMLAH_SPESIMEN_HARIAN.png', dpi=150)"
   ]
  },
  {
   "cell_type": "markdown",
   "metadata": {},
   "source": [
    "## VISUALISASI PERUBAHAN/PERKEMBANGAN\n",
    "\n",
    "Catatan pada visualisasi perubahan/perkembangan:\n",
    "\n",
    "- Fokus visualisasi ini adalah perubahan data dari hari ke hari. \n",
    "- Urutan _stacked bar_ menyamai dengan visualiasi akumulasi/total untuk konsistensi kecuali pada grafik perkembangan jumlah spesimen.\n",
    "- Pada kasus konfirmasi, dipisahkan kategori antara `dirawat` dengan `sembuh` dan `meninggal` pada garis horisontal yang memotong sumbu $y$ pada $y=0$. Hal ini juga diterapkan pada jumlah spesimen yang memisahkan antara `negatif` dan `proses_periksa` dengan `positif`. \n",
    "- Grafik kartesian dimodifikasi berupa setiap nilai pada dibawah $y=0$ selalu positif. Hal ini dilakukan karena bar yang dibawah sumbu $y=0$ bukan berarti negatif/berkurang akan tetapi menunjukkan jumlah beda dari hari sebelumnya. Modifikasi ini hanya berupa tampilan saja.\n",
    "- Grafik dapat menampilkan akumulasi/total yang samar sehingga grafik perubahan/perkembangan tidak memerlukan grafik tambahan akumulasi/total.\n",
    "- Khusus untuk grafik jumlah spesimen, urutan _stacked bar_ diubah yaitu menjadi `negatif`, `proses_periksa`, dan `positif` dengan `positif` dibawah $y=0$. Hal ini dikarenakan proporsi `negatif` akan selalu lebih besar dibandingkan `positif`, maka ruang gambar pada grafik di sisi `negatif` akan lebih besar. Jika sisi `negatif` berada dibawah $y=0$ membuat grafik samar akumulasi tidak jelas jika digambar diatas $y=0$. Oleh karena itu, untuk memudahkan membaca grafik, urutannya diubah. "
   ]
  },
  {
   "cell_type": "markdown",
   "metadata": {},
   "source": [
    "### PERKEMBANGAN KASUS KONFIRMASI"
   ]
  },
  {
   "cell_type": "code",
   "execution_count": null,
   "metadata": {},
   "outputs": [],
   "source": [
    "fig, ax = plt.subplots(figsize=FIG_SIZE)\n",
    "inkovis.plot_confirmed_growth(\n",
    "    dataset=DATASET, ax=ax, mask=MASK, days=DAYS,\n",
    "    show_info=False,\n",
    "    show_confirmed=True, show_confirmed_numbers=True)\n",
    "\n",
    "plt.savefig('PERKEMBANGAN_KASUS_KONFIRMASI_HARIAN.png', dpi=150)"
   ]
  },
  {
   "cell_type": "markdown",
   "metadata": {},
   "source": [
    "### PERKEMBANGAN JUMLAH SPESIMEN"
   ]
  },
  {
   "cell_type": "code",
   "execution_count": null,
   "metadata": {},
   "outputs": [],
   "source": [
    "fig, ax = plt.subplots(figsize=FIG_SIZE)\n",
    "inkovis.plot_testing_growth(\n",
    "    dataset=DATASET, ax=ax, mask=MASK, days=DAYS,\n",
    "    show_info=False,\n",
    "    show_confirmed=True)\n",
    "\n",
    "plt.savefig('PERKEMBANGAN_JUMLAH_SPESIMEN_HARIAN.png', dpi=150)"
   ]
  },
  {
   "cell_type": "markdown",
   "metadata": {},
   "source": [
    "-----"
   ]
  },
  {
   "cell_type": "markdown",
   "metadata": {},
   "source": [
    "# GRAFIK GABUNGAN\n",
    "\n",
    "Visualisasi akumulasi/total dan perubahan/perkembangan digabungkan dalam satu grafik/figur/gambar."
   ]
  },
  {
   "cell_type": "markdown",
   "metadata": {},
   "source": [
    "## AKUMULASI/TOTAL DAN PERUBAHAN/PERKEMBANGAN"
   ]
  },
  {
   "cell_type": "markdown",
   "metadata": {},
   "source": [
    "### KASUS KONFIRMASI DAN PERKEMBANGANNYA"
   ]
  },
  {
   "cell_type": "code",
   "execution_count": null,
   "metadata": {},
   "outputs": [],
   "source": [
    "fig, ax = plt.subplots(\n",
    "    nrows=2, ncols=1, figsize=FIG_SIZE_GROUP, sharex=True,\n",
    "    gridspec_kw={'height_ratios':[1, 3]})\n",
    "\n",
    "inkovis.plot_confirmed_case(\n",
    "    dataset=DATASET, ax=ax[0], mask=MASK, days=DAYS,\n",
    "    show_diff_bar=False, show_info=False, show_hist=False\n",
    ")\n",
    "\n",
    "inkovis.plot_confirmed_growth(\n",
    "    dataset=DATASET, ax=ax[1], mask=MASK, days=DAYS,\n",
    "    show_bar=True, show_confirmed=True, \n",
    "    show_numbers=True,\n",
    "    show_total_numbers=True, show_title=False, show_info=False,\n",
    "    show_legend=False\n",
    ")\n",
    "ax[0].set_xlabel('');\n",
    "\n",
    "plt.savefig('KONFIRMASI_PERKEMBANGAN_HARIAN.png', dpi=150)"
   ]
  },
  {
   "cell_type": "markdown",
   "metadata": {},
   "source": [
    "### JUMLAH SPESIMEN DAN PERKEMBANGANNYA"
   ]
  },
  {
   "cell_type": "code",
   "execution_count": null,
   "metadata": {},
   "outputs": [],
   "source": [
    "fig, ax = plt.subplots(\n",
    "    nrows=2, ncols=1, figsize=FIG_SIZE_GROUP, sharex=True,\n",
    "    gridspec_kw={'height_ratios':[1, 3]})\n",
    "\n",
    "inkovis.plot_testing_case(\n",
    "    dataset=DATASET, ax=ax[0], mask=MASK, days=DAYS,\n",
    "    show_diff_bar=False, show_info=False, show_hist=False\n",
    ")\n",
    "\n",
    "inkovis.plot_testing_growth(\n",
    "    dataset=DATASET, ax=ax[1], mask=MASK, days=DAYS,\n",
    "    show_bar=True, show_confirmed=True, \n",
    "    show_numbers=True,\n",
    "    show_total_numbers=True, show_title=False, show_info=False,\n",
    "    show_legend=False\n",
    ")\n",
    "\n",
    "ax[0].set_xlabel('');\n",
    "plt.savefig('SPESIMEN_PERKEMBANGAN_HARIAN.png', dpi=150)"
   ]
  },
  {
   "cell_type": "markdown",
   "metadata": {},
   "source": [
    "## AKUMULASI/TOTAL"
   ]
  },
  {
   "cell_type": "markdown",
   "metadata": {},
   "source": [
    "### KASUS KONFIRMASI DAN JUMLAH SPESIMEN"
   ]
  },
  {
   "cell_type": "code",
   "execution_count": null,
   "metadata": {},
   "outputs": [],
   "source": [
    "fig, ax = plt.subplots(\n",
    "    nrows=2, ncols=1, figsize=FIG_SIZE_GROUP, sharex=True,\n",
    "    gridspec_kw={'height_ratios':[1, 1]})\n",
    "\n",
    "_DATASET = dataset_inkovis\n",
    "\n",
    "inkovis.plot_confirmed_case(\n",
    "    dataset=DATASET, ax=ax[0], mask=MASK, days=DAYS,\n",
    "    show_diff_bar=False, show_info=False, show_hist=False, show_title=False\n",
    ")\n",
    "\n",
    "inkovis.plot_testing_case(\n",
    "    dataset=DATASET, ax=ax[1], mask=MASK, days=DAYS,\n",
    "    show_diff_bar=False, show_info=False, show_hist=False, show_title=False\n",
    ")\n",
    "\n",
    "fig.suptitle(\"KASUS KONFIRMASI DAN JUMLAH SPESIMEN COVID-19 DI INDONESIA\", fontweight='bold', fontsize='xx-large')\n",
    "fig.subplots_adjust(top=0.95)\n",
    "\n",
    "ax[0].set_xlabel('');\n",
    "plt.savefig('KONFIRMASI_SPESIMEN_HARIAN.png', dpi=150)"
   ]
  },
  {
   "cell_type": "markdown",
   "metadata": {},
   "source": [
    "## PERUBAHAN/PERKEMBANGAN"
   ]
  },
  {
   "cell_type": "markdown",
   "metadata": {},
   "source": [
    "### PERKEMBANGAN KASUS KONFIRMASI DAN JUMLAH SPESIMEN"
   ]
  },
  {
   "cell_type": "code",
   "execution_count": null,
   "metadata": {},
   "outputs": [],
   "source": [
    "fig, ax = plt.subplots(\n",
    "    nrows=2, ncols=1, figsize=FIG_SIZE_GROUP, sharex=True,\n",
    "    gridspec_kw={'height_ratios':[1, 1]})\n",
    "\n",
    "_DATASET = dataset_inkovis\n",
    "\n",
    "inkovis.plot_confirmed_growth(\n",
    "    dataset=DATASET, ax=ax[0], mask=MASK, days=DAYS,\n",
    "    show_bar=True, show_confirmed=True, \n",
    "    show_numbers=True,\n",
    "    show_total_numbers=True, show_title=False, show_info=False,\n",
    ")\n",
    "inkovis.plot_testing_growth(\n",
    "    dataset=DATASET, ax=ax[1], mask=MASK, days=DAYS,\n",
    "    show_bar=True, show_confirmed=True, \n",
    "    show_numbers=True,\n",
    "    show_total_numbers=True, show_title=False, show_info=False,\n",
    ")\n",
    "\n",
    "fig.suptitle(\"PERKEMBANGAN KASUS KONFIRMASI DAN JUMLAH SPESIMEN COVID-19 DI INDONESIA\", fontweight='bold', fontsize='xx-large')\n",
    "fig.subplots_adjust(top=0.95)\n",
    "\n",
    "ax[0].set_xlabel('');\n",
    "plt.savefig('KONFIRMASI_SPESIMEN_PERKEMBANGAN_HARIAN.png', dpi=150)"
   ]
  },
  {
   "cell_type": "markdown",
   "metadata": {},
   "source": [
    "-----"
   ]
  }
 ],
 "metadata": {
  "kernelspec": {
   "display_name": "Python 3",
   "language": "python",
   "name": "python3"
  },
  "language_info": {
   "codemirror_mode": {
    "name": "ipython",
    "version": 3
   },
   "file_extension": ".py",
   "mimetype": "text/x-python",
   "name": "python",
   "nbconvert_exporter": "python",
   "pygments_lexer": "ipython3",
   "version": "3.6.10"
  }
 },
 "nbformat": 4,
 "nbformat_minor": 4
}
