{
  "nbformat": 4,
  "nbformat_minor": 0,
  "metadata": {
    "kernelspec": {
      "display_name": "Python 3",
      "language": "python",
      "name": "python3"
    },
    "language_info": {
      "codemirror_mode": {
        "name": "ipython",
        "version": 3
      },
      "file_extension": ".py",
      "mimetype": "text/x-python",
      "name": "python",
      "nbconvert_exporter": "python",
      "pygments_lexer": "ipython3",
      "version": "3.7.6"
    },
    "colab": {
      "name": "visualisasi_data_covid19_indonesia.ipynb",
      "provenance": [],
      "toc_visible": true,
      "include_colab_link": true
    }
  },
  "cells": [
    {
      "cell_type": "markdown",
      "metadata": {
        "id": "view-in-github",
        "colab_type": "text"
      },
      "source": [
        "<a href=\"https://colab.research.google.com/github/taruma/inkovis/blob/master/notebook/koleksi_grafik_covid19_indonesia.ipynb\" target=\"_parent\"><img src=\"https://colab.research.google.com/assets/colab-badge.svg\" alt=\"Open In Colab\"/></a>"
      ]
    },
    {
      "cell_type": "markdown",
      "metadata": {
        "id": "vI34vVkZ9zIU",
        "colab_type": "text"
      },
      "source": [
        "# Koleksi Grafik Data COVID-19 di Indonesia Menggunakan Modul Inkovis"
      ]
    },
    {
      "cell_type": "markdown",
      "metadata": {
        "id": "LVYT-zqPFPIX",
        "colab_type": "text"
      },
      "source": [
        "Dataset menggunakan dari repo inkovis, baca [README](https://github.com/taruma/inkovis/blob/master/dataset/README.md) untuk lebih detail."
      ]
    },
    {
      "cell_type": "markdown",
      "metadata": {
        "id": "qMgHQ9vb9zIV",
        "colab_type": "text"
      },
      "source": [
        "# INISIASI BUKU"
      ]
    },
    {
      "cell_type": "code",
      "metadata": {
        "_cell_guid": "79c7e3d0-c299-4dcb-8224-4455121ee9b0",
        "_uuid": "d629ff2d2480ee46fbb7e2d37f6b5fab8052498a",
        "id": "iaHbgT4d9zIZ",
        "colab_type": "code",
        "colab": {}
      },
      "source": [
        "try:\n",
        "    import inkovis\n",
        "except ModuleNotFoundError:\n",
        "    !wget -O inkovis.py \"https://github.com/taruma/inkovis/raw/master/notebook/inkovis.py\" -q\n",
        "    !wget -O so.py \"https://github.com/taruma/inkovis/raw/master/notebook/so.py\" -q\n",
        "    import inkovis"
      ],
      "execution_count": 0,
      "outputs": []
    },
    {
      "cell_type": "code",
      "metadata": {
        "id": "mx9z5v479zIb",
        "colab_type": "code",
        "colab": {}
      },
      "source": [
        "import numpy as np\n",
        "import pandas as pd\n",
        "import matplotlib.pyplot as plt"
      ],
      "execution_count": 0,
      "outputs": []
    },
    {
      "cell_type": "code",
      "metadata": {
        "id": "wmw3QyEz-Kn2",
        "colab_type": "code",
        "colab": {}
      },
      "source": [
        "# PENGATURAN PARAMS VISUALISASI\n",
        "FIG_SIZE = (20, 8)\n",
        "FIG_SIZE_GROUP = (20, 12)"
      ],
      "execution_count": 0,
      "outputs": []
    },
    {
      "cell_type": "markdown",
      "metadata": {
        "id": "g515Y57Y9zIe",
        "colab_type": "text"
      },
      "source": [
        "-----"
      ]
    },
    {
      "cell_type": "markdown",
      "metadata": {
        "id": "Md2IgzmF9zIf",
        "colab_type": "text"
      },
      "source": [
        "# DATASET"
      ]
    },
    {
      "cell_type": "code",
      "metadata": {
        "id": "RkBWAFu19zIf",
        "colab_type": "code",
        "colab": {}
      },
      "source": [
        "ALAMAT_DATASET = 'https://github.com/taruma/inkovis/raw/master/dataset/data_infeksi_covid19_indonesia.csv'\n",
        "dataset_inkovis = pd.read_csv(ALAMAT_DATASET, index_col=0, parse_dates=True, header=0)\n",
        "dataset_inkovis.tail()"
      ],
      "execution_count": 0,
      "outputs": []
    },
    {
      "cell_type": "markdown",
      "metadata": {
        "id": "9xTqc82y9zIi",
        "colab_type": "text"
      },
      "source": [
        "-----"
      ]
    },
    {
      "cell_type": "markdown",
      "metadata": {
        "id": "SlFWK2Mn9zIl",
        "colab_type": "text"
      },
      "source": [
        "## VISUALISASI DATA\n",
        "\n",
        "Visualisasi saya bagi menjadi 2 periode yaitu:\n",
        "\n",
        "- Periode: 31 Hari Terakhir, dengan _step_ 1 hari (Harian)\n",
        "- Periode: Seluruh Data, dengan _step_ 2 hari (Per 2 Hari)\n",
        "\n"
      ]
    },
    {
      "cell_type": "markdown",
      "metadata": {
        "id": "FYhB9Zqq-nTz",
        "colab_type": "text"
      },
      "source": [
        "## PERIODE: 31 Hari Terakhir (Harian)"
      ]
    },
    {
      "cell_type": "code",
      "metadata": {
        "id": "ZcJKt7gq9zIj",
        "colab_type": "code",
        "colab": {}
      },
      "source": [
        "# PARAM FUNGSI\n",
        "DATASET = dataset_inkovis[-31:]\n",
        "MASK = None\n",
        "DAYS = 1"
      ],
      "execution_count": 0,
      "outputs": []
    },
    {
      "cell_type": "markdown",
      "metadata": {
        "id": "NdeA3Toy-qPP",
        "colab_type": "text"
      },
      "source": [
        "### KASUS KONFIRMASI"
      ]
    },
    {
      "cell_type": "code",
      "metadata": {
        "id": "wSjGFNeX-xgn",
        "colab_type": "code",
        "colab": {}
      },
      "source": [
        "fig, ax = plt.subplots(\n",
        "    nrows=2, ncols=1, figsize=FIG_SIZE_GROUP, sharex=True,\n",
        "    gridspec_kw={'height_ratios':[2, 1]})\n",
        "\n",
        "inkovis.plot_confirmed_case(\n",
        "    dataset=DATASET, ax=ax[0], mask=MASK, days=DAYS,\n",
        "    show_diff_bar=False, show_info=False, show_hist=True\n",
        ")\n",
        "\n",
        "inkovis.plot_confirmed_growth(\n",
        "    dataset=DATASET, ax=ax[1], mask=MASK, days=DAYS,\n",
        "    show_bar=True,  \n",
        "    show_numbers=True,\n",
        "    show_confirmed=False, show_total_numbers=True, \n",
        "    show_title=True, show_info=False,\n",
        "    show_legend=True\n",
        ")\n",
        "ax[0].set_xlabel('');\n",
        "\n",
        "plt.savefig('SUM_KASUS_KONFIRMASI_HARIAN.png', dpi=150)"
      ],
      "execution_count": 0,
      "outputs": []
    },
    {
      "cell_type": "markdown",
      "metadata": {
        "id": "WsF9GGf7_w-S",
        "colab_type": "text"
      },
      "source": [
        "### JUMLAH SPESIMEN (PENGUJIAN)"
      ]
    },
    {
      "cell_type": "code",
      "metadata": {
        "id": "hADq3_AV_3EM",
        "colab_type": "code",
        "colab": {}
      },
      "source": [
        "fig, ax = plt.subplots(\n",
        "    nrows=2, ncols=1, figsize=FIG_SIZE_GROUP, sharex=True,\n",
        "    gridspec_kw={'height_ratios':[2, 1]})\n",
        "\n",
        "inkovis.plot_testing_case(\n",
        "    dataset=DATASET, ax=ax[0], mask=MASK, days=DAYS,\n",
        "    show_diff_bar=False, show_info=False, show_hist=True\n",
        ")\n",
        "\n",
        "inkovis.plot_testing_growth(\n",
        "    dataset=DATASET, ax=ax[1], mask=MASK, days=DAYS,\n",
        "    show_bar=True, show_confirmed=False, \n",
        "    show_numbers=True,\n",
        "    show_total_numbers=True, show_title=True, show_info=False,\n",
        "    show_legend=True\n",
        ")\n",
        "\n",
        "ax[0].set_xlabel('');\n",
        "plt.savefig('SUM_JUMLAH_SPESIMEN_HARIAN.png', dpi=150)"
      ],
      "execution_count": 0,
      "outputs": []
    },
    {
      "cell_type": "markdown",
      "metadata": {
        "id": "fXE8bbTbB0pQ",
        "colab_type": "text"
      },
      "source": [
        "### KASUS KONFIRMASI + JUMLAH SPESIMEN"
      ]
    },
    {
      "cell_type": "code",
      "metadata": {
        "id": "9eWHSTIkB33g",
        "colab_type": "code",
        "colab": {}
      },
      "source": [
        "fig, ax = plt.subplots(\n",
        "    nrows=4, ncols=1, figsize=(20, 20), sharex=True,\n",
        "    gridspec_kw={'height_ratios':[2, .5, 2, .5]})\n",
        "\n",
        "inkovis.plot_confirmed_case(\n",
        "    dataset=DATASET, ax=ax[0], mask=MASK, days=DAYS,\n",
        "    show_diff_bar=False, show_info=False, show_hist=True\n",
        ")\n",
        "\n",
        "inkovis.plot_confirmed_growth(\n",
        "    dataset=DATASET, ax=ax[1], mask=MASK, days=DAYS,\n",
        "    show_bar=True,  \n",
        "    show_numbers=True,\n",
        "    show_confirmed=False, show_total_numbers=True, \n",
        "    show_title=False, show_info=False,\n",
        "    show_legend=False\n",
        ")\n",
        "\n",
        "inkovis.plot_testing_case(\n",
        "    dataset=DATASET, ax=ax[2], mask=MASK, days=DAYS,\n",
        "    show_diff_bar=False, show_info=False, show_hist=True\n",
        ")\n",
        "\n",
        "inkovis.plot_testing_growth(\n",
        "    dataset=DATASET, ax=ax[3], mask=MASK, days=DAYS,\n",
        "    show_bar=True, show_confirmed=False, \n",
        "    show_numbers=True,\n",
        "    show_total_numbers=True, show_title=False, show_info=False,\n",
        "    show_legend=False\n",
        ")\n",
        "\n",
        "ax[0].set_xlabel('');\n",
        "ax[1].set_xlabel('');\n",
        "ax[1].xaxis.set_tick_params(labelbottom=True)\n",
        "ax[2].set_xlabel('');\n",
        "\n",
        "plt.savefig('SUM_COVID_HARIAN.png', dpi=150)"
      ],
      "execution_count": 0,
      "outputs": []
    },
    {
      "cell_type": "markdown",
      "metadata": {
        "id": "n759H7d5Aswo",
        "colab_type": "text"
      },
      "source": [
        "## PERIODE: Seluruh Data (Per 2 Hari)"
      ]
    },
    {
      "cell_type": "code",
      "metadata": {
        "id": "seAVXmHUA7e9",
        "colab_type": "code",
        "colab": {}
      },
      "source": [
        "# PARAM FUNGSI\n",
        "DATASET = dataset_inkovis\n",
        "MASK = None\n",
        "DAYS = 2"
      ],
      "execution_count": 0,
      "outputs": []
    },
    {
      "cell_type": "markdown",
      "metadata": {
        "id": "a3V8lcDMA16j",
        "colab_type": "text"
      },
      "source": [
        "### KASUS KONFIRMASI"
      ]
    },
    {
      "cell_type": "code",
      "metadata": {
        "id": "fYXGqJzKA6iY",
        "colab_type": "code",
        "colab": {}
      },
      "source": [
        "fig, ax = plt.subplots(\n",
        "    nrows=2, ncols=1, figsize=FIG_SIZE_GROUP, sharex=True,\n",
        "    gridspec_kw={'height_ratios':[2, 1]})\n",
        "\n",
        "inkovis.plot_confirmed_case(\n",
        "    dataset=DATASET, ax=ax[0], mask=MASK, days=DAYS,\n",
        "    show_diff_bar=False, show_info=False, show_hist=True\n",
        ")\n",
        "\n",
        "inkovis.plot_confirmed_growth(\n",
        "    dataset=DATASET, ax=ax[1], mask=MASK, days=DAYS,\n",
        "    show_bar=True,  \n",
        "    show_numbers=True,\n",
        "    show_confirmed=False, show_total_numbers=True, \n",
        "    show_title=True, show_info=False,\n",
        "    show_legend=True\n",
        ")\n",
        "ax[0].set_xlabel('');\n",
        "\n",
        "plt.savefig('SUM_KASUS_KONFIRMASI_PER2HARI.png', dpi=150)"
      ],
      "execution_count": 0,
      "outputs": []
    },
    {
      "cell_type": "markdown",
      "metadata": {
        "id": "iJK8ZAwtA3g5",
        "colab_type": "text"
      },
      "source": [
        "### JUMLAH SPESIMEN "
      ]
    },
    {
      "cell_type": "code",
      "metadata": {
        "id": "sPcu_jbwAwup",
        "colab_type": "code",
        "colab": {}
      },
      "source": [
        "fig, ax = plt.subplots(\n",
        "    nrows=2, ncols=1, figsize=FIG_SIZE_GROUP, sharex=True,\n",
        "    gridspec_kw={'height_ratios':[2, 1]})\n",
        "\n",
        "inkovis.plot_testing_case(\n",
        "    dataset=DATASET, ax=ax[0], mask=MASK, days=DAYS,\n",
        "    show_diff_bar=False, show_info=False, show_hist=True\n",
        ")\n",
        "\n",
        "inkovis.plot_testing_growth(\n",
        "    dataset=DATASET, ax=ax[1], mask=MASK, days=DAYS,\n",
        "    show_bar=True, show_confirmed=False, \n",
        "    show_numbers=True,\n",
        "    show_total_numbers=True, show_title=True, show_info=False,\n",
        "    show_legend=True\n",
        ")\n",
        "\n",
        "ax[0].set_xlabel('');\n",
        "plt.savefig('SUM_JUMLAH_SPESIMEN_PER2HARI.png', dpi=150)"
      ],
      "execution_count": 0,
      "outputs": []
    },
    {
      "cell_type": "markdown",
      "metadata": {
        "id": "nEyauVoaDmml",
        "colab_type": "text"
      },
      "source": [
        "### KASUS KONFIRMASI + JUMLAH SPESIMEN"
      ]
    },
    {
      "cell_type": "code",
      "metadata": {
        "id": "2XdoIC09Do_k",
        "colab_type": "code",
        "colab": {}
      },
      "source": [
        "fig, ax = plt.subplots(\n",
        "    nrows=4, ncols=1, figsize=(20, 20), sharex=True,\n",
        "    gridspec_kw={'height_ratios':[2, .5, 2, .5]})\n",
        "\n",
        "inkovis.plot_confirmed_case(\n",
        "    dataset=DATASET, ax=ax[0], mask=MASK, days=DAYS,\n",
        "    show_diff_bar=False, show_info=False, show_hist=True\n",
        ")\n",
        "\n",
        "inkovis.plot_confirmed_growth(\n",
        "    dataset=DATASET, ax=ax[1], mask=MASK, days=DAYS,\n",
        "    show_bar=True,  \n",
        "    show_numbers=True,\n",
        "    show_confirmed=False, show_total_numbers=True, \n",
        "    show_title=False, show_info=False,\n",
        "    show_legend=False\n",
        ")\n",
        "\n",
        "inkovis.plot_testing_case(\n",
        "    dataset=DATASET, ax=ax[2], mask=MASK, days=DAYS,\n",
        "    show_diff_bar=False, show_info=False, show_hist=True\n",
        ")\n",
        "\n",
        "inkovis.plot_testing_growth(\n",
        "    dataset=DATASET, ax=ax[3], mask=MASK, days=DAYS,\n",
        "    show_bar=True, show_confirmed=False, \n",
        "    show_numbers=True,\n",
        "    show_total_numbers=True, show_title=False, show_info=False,\n",
        "    show_legend=False\n",
        ")\n",
        "\n",
        "ax[0].set_xlabel('');\n",
        "ax[1].set_xlabel('');\n",
        "ax[1].xaxis.set_tick_params(labelbottom=True)\n",
        "ax[2].set_xlabel('');\n",
        "\n",
        "plt.savefig('SUM_COVID_PER2HARI.png', dpi=150)"
      ],
      "execution_count": 0,
      "outputs": []
    }
  ]
}